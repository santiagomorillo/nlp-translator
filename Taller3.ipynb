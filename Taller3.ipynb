{
 "cells": [
  {
   "cell_type": "code",
   "execution_count": 1,
   "metadata": {},
   "outputs": [
    {
     "name": "stdout",
     "output_type": "stream",
     "text": [
      "Defaulting to user installation because normal site-packages is not writeable\n",
      "Collecting flask\n",
      "  Downloading flask-3.1.0-py3-none-any.whl.metadata (2.7 kB)\n",
      "Collecting Werkzeug>=3.1 (from flask)\n",
      "  Downloading werkzeug-3.1.3-py3-none-any.whl.metadata (3.7 kB)\n",
      "Requirement already satisfied: Jinja2>=3.1.2 in c:\\program files\\python312\\lib\\site-packages (from flask) (3.1.4)\n",
      "Collecting itsdangerous>=2.2 (from flask)\n",
      "  Downloading itsdangerous-2.2.0-py3-none-any.whl.metadata (1.9 kB)\n",
      "Requirement already satisfied: click>=8.1.3 in c:\\users\\santi\\appdata\\roaming\\python\\python312\\site-packages (from flask) (8.1.8)\n",
      "Collecting blinker>=1.9 (from flask)\n",
      "  Downloading blinker-1.9.0-py3-none-any.whl.metadata (1.6 kB)\n",
      "Requirement already satisfied: colorama in c:\\users\\santi\\appdata\\roaming\\python\\python312\\site-packages (from click>=8.1.3->flask) (0.4.6)\n",
      "Requirement already satisfied: MarkupSafe>=2.0 in c:\\program files\\python312\\lib\\site-packages (from Jinja2>=3.1.2->flask) (2.1.5)\n",
      "Downloading flask-3.1.0-py3-none-any.whl (102 kB)\n",
      "Downloading blinker-1.9.0-py3-none-any.whl (8.5 kB)\n",
      "Downloading itsdangerous-2.2.0-py3-none-any.whl (16 kB)\n",
      "Downloading werkzeug-3.1.3-py3-none-any.whl (224 kB)\n",
      "Installing collected packages: Werkzeug, itsdangerous, blinker, flask\n",
      "  Attempting uninstall: Werkzeug\n",
      "    Found existing installation: Werkzeug 3.0.3\n",
      "    Uninstalling Werkzeug-3.0.3:\n",
      "      Successfully uninstalled Werkzeug-3.0.3\n",
      "Successfully installed Werkzeug-3.1.3 blinker-1.9.0 flask-3.1.0 itsdangerous-2.2.0\n"
     ]
    }
   ],
   "source": [
    "!pip install flask"
   ]
  },
  {
   "cell_type": "code",
   "execution_count": 2,
   "metadata": {},
   "outputs": [],
   "source": [
    "from flask import Flask, request, jsonify"
   ]
  },
  {
   "cell_type": "code",
   "execution_count": 3,
   "metadata": {},
   "outputs": [],
   "source": [
    "from transformers import AutoModelForSequenceClassification, AutoTokenizer"
   ]
  },
  {
   "cell_type": "code",
   "execution_count": 4,
   "metadata": {},
   "outputs": [],
   "source": [
    "import torch"
   ]
  },
  {
   "cell_type": "code",
   "execution_count": null,
   "metadata": {},
   "outputs": [
    {
     "data": {
      "application/vnd.jupyter.widget-view+json": {
       "model_id": "92536b672be7428b9d259a24de1dec21",
       "version_major": 2,
       "version_minor": 0
      },
      "text/plain": [
       "config.json:   0%|          | 0.00/629 [00:00<?, ?B/s]"
      ]
     },
     "metadata": {},
     "output_type": "display_data"
    },
    {
     "name": "stderr",
     "output_type": "stream",
     "text": [
      "C:\\Users\\santi\\AppData\\Roaming\\Python\\Python312\\site-packages\\huggingface_hub\\file_download.py:142: UserWarning: `huggingface_hub` cache-system uses symlinks by default to efficiently store duplicated files but your machine does not support them in C:\\Users\\santi\\.cache\\huggingface\\hub\\models--distilbert-base-uncased-finetuned-sst-2-english. Caching files will still work but in a degraded version that might require more space on your disk. This warning can be disabled by setting the `HF_HUB_DISABLE_SYMLINKS_WARNING` environment variable. For more details, see https://huggingface.co/docs/huggingface_hub/how-to-cache#limitations.\n",
      "To support symlinks on Windows, you either need to activate Developer Mode or to run Python as an administrator. In order to activate developer mode, see this article: https://docs.microsoft.com/en-us/windows/apps/get-started/enable-your-device-for-development\n",
      "  warnings.warn(message)\n"
     ]
    },
    {
     "data": {
      "application/vnd.jupyter.widget-view+json": {
       "model_id": "38203e23e01f4eb1afd2473342e35e0a",
       "version_major": 2,
       "version_minor": 0
      },
      "text/plain": [
       "model.safetensors:   0%|          | 0.00/268M [00:00<?, ?B/s]"
      ]
     },
     "metadata": {},
     "output_type": "display_data"
    },
    {
     "data": {
      "application/vnd.jupyter.widget-view+json": {
       "model_id": "e10160be719b4cc5a125e572e546b2ac",
       "version_major": 2,
       "version_minor": 0
      },
      "text/plain": [
       "tokenizer_config.json:   0%|          | 0.00/48.0 [00:00<?, ?B/s]"
      ]
     },
     "metadata": {},
     "output_type": "display_data"
    },
    {
     "data": {
      "application/vnd.jupyter.widget-view+json": {
       "model_id": "23ab9c4498f34c5381c66c4130c52693",
       "version_major": 2,
       "version_minor": 0
      },
      "text/plain": [
       "vocab.txt:   0%|          | 0.00/232k [00:00<?, ?B/s]"
      ]
     },
     "metadata": {},
     "output_type": "display_data"
    },
    {
     "name": "stdout",
     "output_type": "stream",
     "text": [
      " * Serving Flask app '__main__'\n",
      " * Debug mode: off\n"
     ]
    },
    {
     "name": "stderr",
     "output_type": "stream",
     "text": [
      "WARNING: This is a development server. Do not use it in a production deployment. Use a production WSGI server instead.\n",
      " * Running on all addresses (0.0.0.0)\n",
      " * Running on http://127.0.0.1:5555\n",
      " * Running on http://192.168.68.128:5555\n",
      "Press CTRL+C to quit\n",
      "127.0.0.1 - - [08/Mar/2025 10:39:52] \"POST /predict HTTP/1.1\" 200 -\n",
      "127.0.0.1 - - [08/Mar/2025 10:40:15] \"POST /predict HTTP/1.1\" 400 -\n",
      "127.0.0.1 - - [08/Mar/2025 10:40:45] \"POST /predict HTTP/1.1\" 200 -\n",
      "127.0.0.1 - - [08/Mar/2025 10:42:10] \"POST /predict HTTP/1.1\" 200 -\n",
      "127.0.0.1 - - [08/Mar/2025 10:44:45] \"POST /predict HTTP/1.1\" 200 -\n",
      "127.0.0.1 - - [08/Mar/2025 10:44:54] \"POST /predict HTTP/1.1\" 200 -\n",
      "127.0.0.1 - - [08/Mar/2025 10:45:07] \"POST /predict HTTP/1.1\" 200 -\n",
      "127.0.0.1 - - [08/Mar/2025 10:45:17] \"POST /predict HTTP/1.1\" 200 -\n",
      "127.0.0.1 - - [08/Mar/2025 10:45:27] \"POST /predict HTTP/1.1\" 200 -\n",
      "127.0.0.1 - - [08/Mar/2025 10:46:29] \"POST /predict HTTP/1.1\" 200 -\n",
      "127.0.0.1 - - [08/Mar/2025 10:46:50] \"POST /predict HTTP/1.1\" 200 -\n",
      "127.0.0.1 - - [08/Mar/2025 10:47:07] \"POST /predict HTTP/1.1\" 200 -\n",
      "127.0.0.1 - - [08/Mar/2025 10:47:26] \"POST /predict HTTP/1.1\" 200 -\n",
      "127.0.0.1 - - [08/Mar/2025 10:48:00] \"POST /predict HTTP/1.1\" 200 -\n",
      "127.0.0.1 - - [08/Mar/2025 10:48:29] \"POST /predict HTTP/1.1\" 200 -\n"
     ]
    }
   ],
   "source": [
    "# app = Flask(__name__)\n",
    "\n",
    "# model_name= \"distilbert-base-uncased-finetuned-sst-2-english\"\n",
    "# model= AutoModelForSequenceClassification.from_pretrained(model_name)\n",
    "\n",
    "# tokenizer = AutoTokenizer.from_pretrained(model_name)\n",
    "\n",
    "\n",
    "\n",
    "# @app.route(\"/predict\", methods=[\"POST\"])\n",
    "\n",
    "# def predict():\n",
    "#     data = request.json\n",
    "#     inputs = tokenizer(data[\"text\"], return_tensors=\"pt\", truncation=True, padding=True)\n",
    "#     with torch.no_grad():\n",
    "#         outputs = model(**inputs)\n",
    "#         prediction = torch.argmax(outputs.logits).item()\n",
    "#     return jsonify({\"prediction\": prediction})\n",
    "\n",
    "# if __name__ == \"__main__\":\n",
    "#     app.run(host=\"0.0.0.0\", port=5555)\n"
   ]
  },
  {
   "cell_type": "code",
   "execution_count": 2,
   "metadata": {},
   "outputs": [
    {
     "name": "stdout",
     "output_type": "stream",
     "text": [
      "Defaulting to user installation because normal site-packages is not writeable\n",
      "Requirement already satisfied: flask-cors in c:\\users\\santi\\appdata\\roaming\\python\\python312\\site-packages (5.0.1)\n",
      "Requirement already satisfied: flask>=0.9 in c:\\users\\santi\\appdata\\roaming\\python\\python312\\site-packages (from flask-cors) (3.1.0)\n",
      "Requirement already satisfied: Werkzeug>=0.7 in c:\\users\\santi\\appdata\\roaming\\python\\python312\\site-packages (from flask-cors) (3.1.3)\n",
      "Requirement already satisfied: Jinja2>=3.1.2 in c:\\program files\\python312\\lib\\site-packages (from flask>=0.9->flask-cors) (3.1.4)\n",
      "Requirement already satisfied: itsdangerous>=2.2 in c:\\users\\santi\\appdata\\roaming\\python\\python312\\site-packages (from flask>=0.9->flask-cors) (2.2.0)\n",
      "Requirement already satisfied: click>=8.1.3 in c:\\users\\santi\\appdata\\roaming\\python\\python312\\site-packages (from flask>=0.9->flask-cors) (8.1.8)\n",
      "Requirement already satisfied: blinker>=1.9 in c:\\users\\santi\\appdata\\roaming\\python\\python312\\site-packages (from flask>=0.9->flask-cors) (1.9.0)\n",
      "Requirement already satisfied: MarkupSafe>=2.1.1 in c:\\program files\\python312\\lib\\site-packages (from Werkzeug>=0.7->flask-cors) (2.1.5)\n",
      "Requirement already satisfied: colorama in c:\\users\\santi\\appdata\\roaming\\python\\python312\\site-packages (from click>=8.1.3->flask>=0.9->flask-cors) (0.4.6)\n",
      "Defaulting to user installation because normal site-packages is not writeable\n",
      "Requirement already satisfied: sentencepiece in c:\\users\\santi\\appdata\\roaming\\python\\python312\\site-packages (0.2.0)\n"
     ]
    }
   ],
   "source": [
    "!pip install flask-cors\n",
    "!pip install sentencepiece"
   ]
  },
  {
   "cell_type": "code",
   "execution_count": 1,
   "metadata": {},
   "outputs": [
    {
     "name": "stderr",
     "output_type": "stream",
     "text": [
      "C:\\Users\\santi\\AppData\\Roaming\\Python\\Python312\\site-packages\\transformers\\models\\marian\\tokenization_marian.py:175: UserWarning: Recommended: pip install sacremoses.\n",
      "  warnings.warn(\"Recommended: pip install sacremoses.\")\n"
     ]
    },
    {
     "name": "stdout",
     "output_type": "stream",
     "text": [
      " * Serving Flask app '__main__'\n",
      " * Debug mode: off\n"
     ]
    },
    {
     "name": "stderr",
     "output_type": "stream",
     "text": [
      "WARNING: This is a development server. Do not use it in a production deployment. Use a production WSGI server instead.\n",
      " * Running on all addresses (0.0.0.0)\n",
      " * Running on http://127.0.0.1:5555\n",
      " * Running on http://192.168.68.128:5555\n",
      "Press CTRL+C to quit\n",
      "127.0.0.1 - - [08/Mar/2025 12:26:04] \"GET / HTTP/1.1\" 200 -\n",
      "127.0.0.1 - - [08/Mar/2025 12:26:09] \"OPTIONS /translate HTTP/1.1\" 200 -\n",
      "127.0.0.1 - - [08/Mar/2025 12:26:14] \"OPTIONS /translate HTTP/1.1\" 200 -\n",
      "127.0.0.1 - - [08/Mar/2025 12:26:18] \"POST /translate HTTP/1.1\" 200 -\n",
      "127.0.0.1 - - [08/Mar/2025 12:26:21] \"POST /translate HTTP/1.1\" 200 -\n"
     ]
    }
   ],
   "source": [
    "from flask import Flask, request, jsonify\n",
    "from flask_cors import CORS  # Importar CORS\n",
    "from transformers import AutoModelForSeq2SeqLM, AutoTokenizer\n",
    "import torch\n",
    "from threading import Thread\n",
    "import sentencepiece \n",
    "\n",
    "# Crear la app de Flask\n",
    "app = Flask(__name__)\n",
    "\n",
    "# Habilitar CORS para todas las rutas\n",
    "CORS(app)  # Esto habilita CORS para todos los orÃ­genes\n",
    "\n",
    "# Cargar el modelo\n",
    "model_name = \"Helsinki-NLP/opus-mt-en-fr\"\n",
    "model = AutoModelForSeq2SeqLM.from_pretrained(model_name)\n",
    "tokenizer = AutoTokenizer.from_pretrained(model_name)\n",
    "\n",
    "# HTML como un string (lo puedes modificar)\n",
    "html_content = \"\"\"\n",
    "<!DOCTYPE html>\n",
    "<html lang=\"es\">\n",
    "<head>\n",
    "    <meta charset=\"UTF-8\">\n",
    "    <meta name=\"viewport\" content=\"width=device-width, initial-scale=1.0\">\n",
    "    <title>Prueba de Servicio de Traducción de inglés a francés</title>\n",
    "    <script>\n",
    "        async function sendTranslation() {\n",
    "            const text = document.getElementById(\"inputText\").value;\n",
    "            const response = await fetch(\"http://localhost:5555/translate\", {\n",
    "                method: \"POST\",\n",
    "                headers: {\n",
    "                    \"Content-Type\": \"application/json\"\n",
    "                },\n",
    "                body: JSON.stringify({ text: text })\n",
    "            });\n",
    "\n",
    "            const data = await response.json();\n",
    "            document.getElementById(\"predictionResult\").innerText = `Traducción: ${data.translation}`;\n",
    "        }\n",
    "    </script>\n",
    "</head>\n",
    "<body>\n",
    "    <div style=\"max-width: 800px; margin: 0 auto; text-align: center;\">\n",
    "        <h1>Servicio de Traducción de inglés a francés</h1>\n",
    "        <textarea id=\"inputText\" rows=\"14\" cols=\"100\" placeholder=\"Escribe un texto en inglés para traducir a francés...\"></textarea>\n",
    "        <br><br>\n",
    "        <button onclick=\"sendTranslation()\">Obtener Traducción</button>\n",
    "        <p id=\"predictionResult\" style=\"margin-top: 20px; font-size: 18px; font-weight: bold;\"></p>\n",
    "    </div>\n",
    "</body>\n",
    "</html>\n",
    "\"\"\"\n",
    "\n",
    "# Ruta para servir el HTML\n",
    "@app.route(\"/\")\n",
    "def home():\n",
    "    return html_content\n",
    "\n",
    "# Ruta para la predicción\n",
    "@app.route(\"/translate\", methods=[\"POST\"])\n",
    "def predict():\n",
    "    data = request.json\n",
    "    inputs = tokenizer(data[\"text\"], return_tensors=\"pt\", truncation=True, padding=True)\n",
    "    with torch.no_grad():\n",
    "            # outputs = model(**inputs)\n",
    "            # prediction = torch.argmax(outputs.logits).item()\n",
    "        outputs = model.generate(**inputs)  # Usa el método generate en lugar de forward\n",
    "        prediction = tokenizer.decode(outputs[0], skip_special_tokens=True)  # Decodifica el primer elemento \n",
    "    return jsonify({\"translation\": prediction})\n",
    "\n",
    "# Ejecutar Flask en un hilo\n",
    "def run_flask():\n",
    "    app.run(host=\"0.0.0.0\", port=5555)\n",
    "\n",
    "# Crear un hilo para ejecutar Flask\n",
    "thread = Thread(target=run_flask)\n",
    "thread.start()  "
   ]
  }
 ],
 "metadata": {
  "kernelspec": {
   "display_name": "Python 3",
   "language": "python",
   "name": "python3"
  },
  "language_info": {
   "codemirror_mode": {
    "name": "ipython",
    "version": 3
   },
   "file_extension": ".py",
   "mimetype": "text/x-python",
   "name": "python",
   "nbconvert_exporter": "python",
   "pygments_lexer": "ipython3",
   "version": "3.12.9"
  }
 },
 "nbformat": 4,
 "nbformat_minor": 2
}
